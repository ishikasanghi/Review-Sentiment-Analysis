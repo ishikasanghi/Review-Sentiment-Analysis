{
 "cells": [
  {
   "cell_type": "code",
   "execution_count": 1,
   "id": "5f197426",
   "metadata": {},
   "outputs": [],
   "source": [
    "import pandas as pd\n",
    "import nltk \n",
    "import numpy as np\n",
    "from nltk.corpus import stopwords\n",
    "from nltk.tokenize import word_tokenize\n",
    "from sklearn.model_selection import train_test_split\n",
    "from sklearn.feature_extraction.text import TfidfVectorizer \n",
    "from sklearn.naive_bayes import MultinomialNB \n",
    "from sklearn.linear_model import LogisticRegression, SGDClassifier\n",
    "import matplotlib.pyplot as plt\n",
    "from sklearn.metrics import accuracy_score\n",
    "import sklearn.metrics as metrics"
   ]
  },
  {
   "cell_type": "code",
   "execution_count": 2,
   "id": "9dea2619",
   "metadata": {
    "scrolled": false
   },
   "outputs": [
    {
     "data": {
      "text/html": [
       "<div>\n",
       "<style scoped>\n",
       "    .dataframe tbody tr th:only-of-type {\n",
       "        vertical-align: middle;\n",
       "    }\n",
       "\n",
       "    .dataframe tbody tr th {\n",
       "        vertical-align: top;\n",
       "    }\n",
       "\n",
       "    .dataframe thead th {\n",
       "        text-align: right;\n",
       "    }\n",
       "</style>\n",
       "<table border=\"1\" class=\"dataframe\">\n",
       "  <thead>\n",
       "    <tr style=\"text-align: right;\">\n",
       "      <th></th>\n",
       "      <th>review</th>\n",
       "      <th>sentiment</th>\n",
       "    </tr>\n",
       "  </thead>\n",
       "  <tbody>\n",
       "    <tr>\n",
       "      <th>0</th>\n",
       "      <td>One of the other reviewers has mentioned that ...</td>\n",
       "      <td>positive</td>\n",
       "    </tr>\n",
       "    <tr>\n",
       "      <th>1</th>\n",
       "      <td>A wonderful little production. &lt;br /&gt;&lt;br /&gt;The...</td>\n",
       "      <td>positive</td>\n",
       "    </tr>\n",
       "    <tr>\n",
       "      <th>2</th>\n",
       "      <td>I thought this was a wonderful way to spend ti...</td>\n",
       "      <td>positive</td>\n",
       "    </tr>\n",
       "    <tr>\n",
       "      <th>3</th>\n",
       "      <td>Basically there's a family where a little boy ...</td>\n",
       "      <td>negative</td>\n",
       "    </tr>\n",
       "    <tr>\n",
       "      <th>4</th>\n",
       "      <td>Petter Mattei's \"Love in the Time of Money\" is...</td>\n",
       "      <td>positive</td>\n",
       "    </tr>\n",
       "  </tbody>\n",
       "</table>\n",
       "</div>"
      ],
      "text/plain": [
       "                                              review sentiment\n",
       "0  One of the other reviewers has mentioned that ...  positive\n",
       "1  A wonderful little production. <br /><br />The...  positive\n",
       "2  I thought this was a wonderful way to spend ti...  positive\n",
       "3  Basically there's a family where a little boy ...  negative\n",
       "4  Petter Mattei's \"Love in the Time of Money\" is...  positive"
      ]
     },
     "execution_count": 2,
     "metadata": {},
     "output_type": "execute_result"
    }
   ],
   "source": [
    "data = pd.read_csv(\"IMDB Dataset.csv\")\n",
    "data.count()[0]\n",
    "data.head()"
   ]
  },
  {
   "cell_type": "code",
   "execution_count": 3,
   "id": "767a19b2",
   "metadata": {
    "scrolled": true
   },
   "outputs": [
    {
     "name": "stdout",
     "output_type": "stream",
     "text": [
      "<class 'pandas.core.frame.DataFrame'>\n",
      "RangeIndex: 50000 entries, 0 to 49999\n",
      "Data columns (total 2 columns):\n",
      " #   Column     Non-Null Count  Dtype \n",
      "---  ------     --------------  ----- \n",
      " 0   review     50000 non-null  object\n",
      " 1   sentiment  50000 non-null  object\n",
      "dtypes: object(2)\n",
      "memory usage: 781.4+ KB\n"
     ]
    }
   ],
   "source": [
    "data.info()"
   ]
  },
  {
   "cell_type": "code",
   "execution_count": 4,
   "id": "466ed010",
   "metadata": {},
   "outputs": [
    {
     "data": {
      "text/plain": [
       "positive    25000\n",
       "negative    25000\n",
       "Name: sentiment, dtype: int64"
      ]
     },
     "execution_count": 4,
     "metadata": {},
     "output_type": "execute_result"
    }
   ],
   "source": [
    "data[\"sentiment\"].value_counts()"
   ]
  },
  {
   "cell_type": "code",
   "execution_count": 5,
   "id": "b0bff181",
   "metadata": {},
   "outputs": [
    {
     "data": {
      "text/html": [
       "<div>\n",
       "<style scoped>\n",
       "    .dataframe tbody tr th:only-of-type {\n",
       "        vertical-align: middle;\n",
       "    }\n",
       "\n",
       "    .dataframe tbody tr th {\n",
       "        vertical-align: top;\n",
       "    }\n",
       "\n",
       "    .dataframe thead th {\n",
       "        text-align: right;\n",
       "    }\n",
       "</style>\n",
       "<table border=\"1\" class=\"dataframe\">\n",
       "  <thead>\n",
       "    <tr style=\"text-align: right;\">\n",
       "      <th></th>\n",
       "      <th>review</th>\n",
       "      <th>sentiment</th>\n",
       "    </tr>\n",
       "  </thead>\n",
       "  <tbody>\n",
       "    <tr>\n",
       "      <th>0</th>\n",
       "      <td>One of the other reviewers has mentioned that ...</td>\n",
       "      <td>1</td>\n",
       "    </tr>\n",
       "    <tr>\n",
       "      <th>1</th>\n",
       "      <td>A wonderful little production. &lt;br /&gt;&lt;br /&gt;The...</td>\n",
       "      <td>1</td>\n",
       "    </tr>\n",
       "    <tr>\n",
       "      <th>2</th>\n",
       "      <td>I thought this was a wonderful way to spend ti...</td>\n",
       "      <td>1</td>\n",
       "    </tr>\n",
       "    <tr>\n",
       "      <th>3</th>\n",
       "      <td>Basically there's a family where a little boy ...</td>\n",
       "      <td>0</td>\n",
       "    </tr>\n",
       "    <tr>\n",
       "      <th>4</th>\n",
       "      <td>Petter Mattei's \"Love in the Time of Money\" is...</td>\n",
       "      <td>1</td>\n",
       "    </tr>\n",
       "  </tbody>\n",
       "</table>\n",
       "</div>"
      ],
      "text/plain": [
       "                                              review  sentiment\n",
       "0  One of the other reviewers has mentioned that ...          1\n",
       "1  A wonderful little production. <br /><br />The...          1\n",
       "2  I thought this was a wonderful way to spend ti...          1\n",
       "3  Basically there's a family where a little boy ...          0\n",
       "4  Petter Mattei's \"Love in the Time of Money\" is...          1"
      ]
     },
     "execution_count": 5,
     "metadata": {},
     "output_type": "execute_result"
    }
   ],
   "source": [
    "d = {\"negative\": 0, \"positive\": 1}\n",
    "\n",
    "# Convert sentiment into numerical data \n",
    "data[\"sentiment\"] = data[\"sentiment\"].map(d)\n",
    "data.head()"
   ]
  },
  {
   "cell_type": "code",
   "execution_count": 6,
   "id": "8d541157",
   "metadata": {},
   "outputs": [
    {
     "data": {
      "text/plain": [
       "0    one reviewers mentioned watching oz episode ho...\n",
       "1    a wonderful little production the filming tech...\n",
       "2    i thought wonderful way spend time hot summer ...\n",
       "3    basically family little boy jake thinks zombie...\n",
       "4    petter mattei love time money visually stunnin...\n",
       "Name: review, dtype: object"
      ]
     },
     "execution_count": 6,
     "metadata": {},
     "output_type": "execute_result"
    }
   ],
   "source": [
    "stop_words = set(stopwords.words('english'))\n",
    "\n",
    "# Define function to remove irrelevant words and symbols from reviews\n",
    "def extract_words(text):\n",
    "    tokens = word_tokenize(text) #split sentence into words\n",
    "    sent = []\n",
    "    for word in tokens:\n",
    "        if word.isalpha() and word not in stop_words and word !=\"br\":\n",
    "            sent.append(word.lower())\n",
    "    return \" \".join(sent)\n",
    "        \n",
    "data[\"review\"] = data[\"review\"].apply(extract_words)\n",
    "data[\"review\"].head()   "
   ]
  },
  {
   "cell_type": "code",
   "execution_count": 7,
   "id": "aa2c5061",
   "metadata": {},
   "outputs": [],
   "source": [
    "\n",
    "X_train, X_test, y_train, y_test = train_test_split(data, data[\"sentiment\"], test_size=0.2, random_state=64) \n",
    "\n",
    "# 20% of the data is used for testing, 80% for training "
   ]
  },
  {
   "cell_type": "markdown",
   "id": "3ebf5bd5",
   "metadata": {},
   "source": [
    "## TF-IDF Vectorizer: \n",
    "- Term frequency: Frequency of a word in a review\n",
    "- Inverse document frequency: Log of the ratio of the total number of reviews to the number of reviews that contain the word -> assigns a higher weight to words that are more rare."
   ]
  },
  {
   "cell_type": "markdown",
   "id": "6c0fea43",
   "metadata": {},
   "source": [
    "$$\n",
    "\\left[\n",
    "\\begin{matrix}\n",
    " & \\text{Word 1} & \\text{Word 2} & \\text{Word 3} & \\text{Word 4} & \\text{Word 5}& \\text{---} & \\text{---}  \\\\\n",
    "\\text{Review 1} & - & - & - & - & - & - & -\\\\\n",
    "\\text{Review 2} & - & - & - & - & - & - & -\\\\\n",
    "\\text{Review 3} & - & - & - & - & - & - & -\\\\\n",
    "\\text{Review 4} & - & - & - & - & - & - & -\\\\\n",
    "\\text{Review 5} & - & - & - & - & - & - & -\\\\\n",
    "\\text{-} & - & - & - & - & - & - & -\\\\\n",
    "\\text{-} & - & - & - & - & - & - & -\\\\\n",
    "\\end{matrix}\n",
    "\\right]\n",
    "$$"
   ]
  },
  {
   "cell_type": "code",
   "execution_count": 8,
   "id": "ae2d54e5",
   "metadata": {},
   "outputs": [],
   "source": [
    "vectorizer = TfidfVectorizer()\n",
    "X_train = vectorizer.fit_transform(X_train[\"review\"])\n",
    "X_test = vectorizer.transform(X_test[\"review\"]) # to ensure same transformations are applied to test data as train data \n"
   ]
  },
  {
   "cell_type": "markdown",
   "id": "e75b624f",
   "metadata": {},
   "source": [
    "### Multinomial Naive Bayes Model\n",
    "- Useful for analysis of sparse data, high dimensional data with lots of features\n",
    "- assumes independence of features\n",
    "- Uses Bayes theorem to assign probabilities for categorization \n",
    "\n",
    "$ P(Sentiment | Words) = \\frac{P(Words | Sentiment) \\times P(Sentiment)}{P(Words)} $\n",
    "\n",
    "\n"
   ]
  },
  {
   "cell_type": "code",
   "execution_count": 9,
   "id": "ba722560",
   "metadata": {
    "scrolled": false
   },
   "outputs": [],
   "source": [
    "# Prediction array for Multinomial Naive Bayes model\n",
    "nb_model = MultinomialNB() \n",
    "nb_model.fit(X_train, y_train)\n",
    "nb_pred = nb_model.predict(X_test)\n"
   ]
  },
  {
   "cell_type": "code",
   "execution_count": 10,
   "id": "e6c74d31",
   "metadata": {},
   "outputs": [
    {
     "name": "stdout",
     "output_type": "stream",
     "text": [
      "Accuracy for Multinomial NB: 0.8632\n"
     ]
    }
   ],
   "source": [
    "# Test the accuracy of the NB model\n",
    "nb_acc = accuracy_score(y_test, nb_pred)\n",
    "print(\"Accuracy for Multinomial NB:\", nb_acc)"
   ]
  },
  {
   "cell_type": "code",
   "execution_count": 11,
   "id": "5ada03b7",
   "metadata": {},
   "outputs": [
    {
     "data": {
      "text/plain": [
       "array([[4362,  589],\n",
       "       [ 779, 4270]])"
      ]
     },
     "execution_count": 11,
     "metadata": {},
     "output_type": "execute_result"
    }
   ],
   "source": [
    "nb_cm = metrics.confusion_matrix(y_test,nb_pred)\n",
    "nb_cm"
   ]
  },
  {
   "cell_type": "markdown",
   "id": "3e710f8a",
   "metadata": {},
   "source": [
    "### Logistic Regression Model\n",
    "- Uses sigmoid function to map input features to a probability between 0 and 1\n",
    "- Minimizes loss function to estimate parameters of sigmoid function\n",
    "- Useful for large dataset"
   ]
  },
  {
   "cell_type": "markdown",
   "id": "1d33d7e0",
   "metadata": {},
   "source": [
    "$$\n",
    "f(z) = \\frac{1}{1+e^{-z}}\n",
    "$$\n",
    "\n",
    "where $z$ is a linear combination of predictors and coefficients"
   ]
  },
  {
   "cell_type": "code",
   "execution_count": 12,
   "id": "4e7fc33d",
   "metadata": {
    "scrolled": false
   },
   "outputs": [],
   "source": [
    "# Prediction array for Logsitic Regression model\n",
    "lr_model = LogisticRegression()\n",
    "lr_model.fit(X_train, y_train)\n",
    "lr_pred = lr_model.predict(X_test)"
   ]
  },
  {
   "cell_type": "code",
   "execution_count": 13,
   "id": "834e3407",
   "metadata": {
    "scrolled": true
   },
   "outputs": [
    {
     "name": "stdout",
     "output_type": "stream",
     "text": [
      "Accuracy for Logistic Regression: 0.8926\n"
     ]
    }
   ],
   "source": [
    "# Test the accuracy of the LR model\n",
    "lr_acc = accuracy_score(y_test, lr_pred)\n",
    "print(\"Accuracy for Logistic Regression:\", lr_acc)"
   ]
  },
  {
   "cell_type": "code",
   "execution_count": 14,
   "id": "8bbe2fbf",
   "metadata": {},
   "outputs": [
    {
     "data": {
      "text/plain": [
       "array([[4358,  593],\n",
       "       [ 481, 4568]])"
      ]
     },
     "execution_count": 14,
     "metadata": {},
     "output_type": "execute_result"
    }
   ],
   "source": [
    "lr_cm = metrics.confusion_matrix(y_test,lr_pred)\n",
    "lr_cm"
   ]
  },
  {
   "cell_type": "markdown",
   "id": "6b8c02e2",
   "metadata": {},
   "source": [
    "The confusion matrix of the Multinomial Bayes model it has a higher success rate at classifying negative sentiment as compared to positive sentiment whereas the inverse is true for the Logistic Regression model. \n",
    "Thus I chose to combine the two models as shown below"
   ]
  },
  {
   "cell_type": "code",
   "execution_count": 15,
   "id": "d17ac85b",
   "metadata": {},
   "outputs": [],
   "source": [
    "# Get the prediction probability arrays of both models\n",
    "lr_prob = lr_model.predict_proba(X_train)\n",
    "nb_prob = nb_model.predict_proba(X_train)"
   ]
  },
  {
   "cell_type": "code",
   "execution_count": 16,
   "id": "14906f49",
   "metadata": {},
   "outputs": [
    {
     "name": "stdout",
     "output_type": "stream",
     "text": [
      "Best accuracy: 0.9364\n",
      "Best weights: (0.7028, 0.2972)\n"
     ]
    }
   ],
   "source": [
    "best_acc = 0\n",
    "best_weights = []\n",
    "\n",
    "# Determine which weights for the models result in the highest accuracy\n",
    "for i in range(1, 5000):\n",
    "    lr_weight = i / 5000\n",
    "    nb_weight = 1 - lr_weight\n",
    "    weighted_predict = (lr_weight * lr_prob) + (nb_weight * nb_prob)\n",
    "    combined_pred = weighted_predict.argmax(axis=1)\n",
    "    acc = accuracy_score(y_train, combined_pred)\n",
    "    if acc > best_acc:\n",
    "        best_acc = acc\n",
    "        best_weights = (lr_weight, nb_weight)\n",
    "\n",
    "print(\"Best accuracy:\", best_acc)\n",
    "print(\"Best weights:\", best_weights)"
   ]
  },
  {
   "cell_type": "code",
   "execution_count": 17,
   "id": "7ca3ccbe",
   "metadata": {},
   "outputs": [],
   "source": [
    "# Use above determined weights to create a function that gives the prediction array based on the combined model\n",
    "def combined_prediction(X_val):\n",
    "    weight = best_weights[0] * lr_model.predict_proba(X_val) + best_weights[1] * nb_model.predict_proba(X_val)\n",
    "    return weight.argmax(axis = 1)\n",
    "\n",
    "combined_pred = combined_prediction(X_test)"
   ]
  },
  {
   "cell_type": "code",
   "execution_count": 18,
   "id": "bb40f758",
   "metadata": {
    "scrolled": true
   },
   "outputs": [
    {
     "name": "stdout",
     "output_type": "stream",
     "text": [
      "Combined Accuracy: 0.8952\n"
     ]
    }
   ],
   "source": [
    "# Test accuracy of combined model\n",
    "acc = accuracy_score(y_test, combined_pred)\n",
    "print(\"Combined Accuracy:\", acc)"
   ]
  },
  {
   "cell_type": "code",
   "execution_count": 19,
   "id": "1221a4ee",
   "metadata": {
    "scrolled": true
   },
   "outputs": [
    {
     "data": {
      "image/png": "[encoded data removed]",
      "text/plain": [
       "<Figure size 432x288 with 2 Axes>"
      ]
     },
     "metadata": {
      "needs_background": "light"
     },
     "output_type": "display_data"
    }
   ],
   "source": [
    "combined_cm = metrics.confusion_matrix(y_test, combined_pred)\n",
    "comb_cm_display = metrics.ConfusionMatrixDisplay(confusion_matrix = combined_cm, display_labels = [\"Negative\", \"Positive\"])\n",
    "comb_cm_display.plot()\n",
    "plt.show()"
   ]
  },
  {
   "cell_type": "code",
   "execution_count": 20,
   "id": "645e9dbb",
   "metadata": {},
   "outputs": [
    {
     "data": {
      "image/png": "[encoded data removed]",
      "text/plain": [
       "<Figure size 432x288 with 1 Axes>"
      ]
     },
     "metadata": {
      "needs_background": "light"
     },
     "output_type": "display_data"
    }
   ],
   "source": [
    "x = [0, 2, 4]\n",
    "labels = ['Combined Accuracy', 'LR Accuracy', 'Multinomial NB Accuracy']\n",
    "\n",
    "heights = [acc, lr_acc, nb_acc]\n",
    "\n",
    "plt.bar(x, heights, tick_label=labels, color = [\"green\", \"Blue\", \"Purple\"])\n",
    "plt.ylim(0.8, 1.0)\n",
    "plt.title('Accuracy Score')\n",
    "plt.show() # it can be seen that the combined accuracy is the highest "
   ]
  },
  {
   "cell_type": "markdown",
   "id": "d42ec98c",
   "metadata": {},
   "source": [
    "### Generalizability of the model"
   ]
  },
  {
   "cell_type": "markdown",
   "id": "449da972",
   "metadata": {},
   "source": [
    "#### Yelp Review data"
   ]
  },
  {
   "cell_type": "code",
   "execution_count": 21,
   "id": "9599f405",
   "metadata": {
    "scrolled": true
   },
   "outputs": [
    {
     "data": {
      "text/html": [
       "<div>\n",
       "<style scoped>\n",
       "    .dataframe tbody tr th:only-of-type {\n",
       "        vertical-align: middle;\n",
       "    }\n",
       "\n",
       "    .dataframe tbody tr th {\n",
       "        vertical-align: top;\n",
       "    }\n",
       "\n",
       "    .dataframe thead th {\n",
       "        text-align: right;\n",
       "    }\n",
       "</style>\n",
       "<table border=\"1\" class=\"dataframe\">\n",
       "  <thead>\n",
       "    <tr style=\"text-align: right;\">\n",
       "      <th></th>\n",
       "      <th>0</th>\n",
       "      <th>1</th>\n",
       "      <th>2</th>\n",
       "      <th>3</th>\n",
       "      <th>4</th>\n",
       "      <th>5</th>\n",
       "    </tr>\n",
       "  </thead>\n",
       "  <tbody>\n",
       "    <tr>\n",
       "      <th>0</th>\n",
       "      <td>Wow... Loved this place.</td>\n",
       "      <td>1</td>\n",
       "      <td>NaN</td>\n",
       "      <td>NaN</td>\n",
       "      <td>NaN</td>\n",
       "      <td>NaN</td>\n",
       "    </tr>\n",
       "    <tr>\n",
       "      <th>1</th>\n",
       "      <td>Crust is not good.</td>\n",
       "      <td>0</td>\n",
       "      <td>NaN</td>\n",
       "      <td>NaN</td>\n",
       "      <td>NaN</td>\n",
       "      <td>NaN</td>\n",
       "    </tr>\n",
       "    <tr>\n",
       "      <th>2</th>\n",
       "      <td>Not tasty and the texture was just nasty.</td>\n",
       "      <td>0</td>\n",
       "      <td>NaN</td>\n",
       "      <td>NaN</td>\n",
       "      <td>NaN</td>\n",
       "      <td>NaN</td>\n",
       "    </tr>\n",
       "    <tr>\n",
       "      <th>3</th>\n",
       "      <td>Stopped by during the late May bank holiday of...</td>\n",
       "      <td>1</td>\n",
       "      <td>NaN</td>\n",
       "      <td>NaN</td>\n",
       "      <td>NaN</td>\n",
       "      <td>NaN</td>\n",
       "    </tr>\n",
       "    <tr>\n",
       "      <th>4</th>\n",
       "      <td>The selection on the menu was great and so wer...</td>\n",
       "      <td>1</td>\n",
       "      <td>NaN</td>\n",
       "      <td>NaN</td>\n",
       "      <td>NaN</td>\n",
       "      <td>NaN</td>\n",
       "    </tr>\n",
       "  </tbody>\n",
       "</table>\n",
       "</div>"
      ],
      "text/plain": [
       "                                                   0  1    2    3    4   5\n",
       "0                           Wow... Loved this place.  1  NaN  NaN  NaN NaN\n",
       "1                                 Crust is not good.  0  NaN  NaN  NaN NaN\n",
       "2          Not tasty and the texture was just nasty.  0  NaN  NaN  NaN NaN\n",
       "3  Stopped by during the late May bank holiday of...  1  NaN  NaN  NaN NaN\n",
       "4  The selection on the menu was great and so wer...  1  NaN  NaN  NaN NaN"
      ]
     },
     "execution_count": 21,
     "metadata": {},
     "output_type": "execute_result"
    }
   ],
   "source": [
    "yelp_test = pd.read_csv(\"yelp_labelled.csv\", header = None)\n",
    "yelp_test.head()"
   ]
  },
  {
   "cell_type": "code",
   "execution_count": 22,
   "id": "3d6381c5",
   "metadata": {
    "scrolled": true
   },
   "outputs": [
    {
     "data": {
      "text/html": [
       "<div>\n",
       "<style scoped>\n",
       "    .dataframe tbody tr th:only-of-type {\n",
       "        vertical-align: middle;\n",
       "    }\n",
       "\n",
       "    .dataframe tbody tr th {\n",
       "        vertical-align: top;\n",
       "    }\n",
       "\n",
       "    .dataframe thead th {\n",
       "        text-align: right;\n",
       "    }\n",
       "</style>\n",
       "<table border=\"1\" class=\"dataframe\">\n",
       "  <thead>\n",
       "    <tr style=\"text-align: right;\">\n",
       "      <th></th>\n",
       "      <th>Review</th>\n",
       "      <th>Sentiment</th>\n",
       "    </tr>\n",
       "  </thead>\n",
       "  <tbody>\n",
       "    <tr>\n",
       "      <th>0</th>\n",
       "      <td>Wow... Loved this place.</td>\n",
       "      <td>1</td>\n",
       "    </tr>\n",
       "    <tr>\n",
       "      <th>1</th>\n",
       "      <td>Crust is not good.</td>\n",
       "      <td>0</td>\n",
       "    </tr>\n",
       "    <tr>\n",
       "      <th>2</th>\n",
       "      <td>Not tasty and the texture was just nasty.</td>\n",
       "      <td>0</td>\n",
       "    </tr>\n",
       "    <tr>\n",
       "      <th>3</th>\n",
       "      <td>Stopped by during the late May bank holiday of...</td>\n",
       "      <td>1</td>\n",
       "    </tr>\n",
       "    <tr>\n",
       "      <th>4</th>\n",
       "      <td>The selection on the menu was great and so wer...</td>\n",
       "      <td>1</td>\n",
       "    </tr>\n",
       "  </tbody>\n",
       "</table>\n",
       "</div>"
      ],
      "text/plain": [
       "                                              Review  Sentiment\n",
       "0                           Wow... Loved this place.          1\n",
       "1                                 Crust is not good.          0\n",
       "2          Not tasty and the texture was just nasty.          0\n",
       "3  Stopped by during the late May bank holiday of...          1\n",
       "4  The selection on the menu was great and so wer...          1"
      ]
     },
     "execution_count": 22,
     "metadata": {},
     "output_type": "execute_result"
    }
   ],
   "source": [
    "yelp = pd.DataFrame(columns=[\"Review\", \"Sentiment\"])\n",
    "\n",
    "# Create a new dataframe to improve data format \n",
    "for index, row in yelp_test.iterrows(): # iterate over rows of yelp_test\n",
    "    Review = \"\"\n",
    "    Sentiment = 0\n",
    "    for col in row:\n",
    "        if isinstance(col, str): # remove NaN\n",
    "            if col.isdigit():\n",
    "                Sentiment = col # Convert string sentiment values to integers\n",
    "            else:\n",
    "                Review += col\n",
    "    new_row = {\"Review\": Review, \"Sentiment\": Sentiment}\n",
    "    yelp = yelp.append(new_row, ignore_index=True)\n",
    "\n",
    "yelp[\"Sentiment\"] = pd.to_numeric(yelp[\"Sentiment\"])\n",
    "yelp.head()"
   ]
  },
  {
   "cell_type": "code",
   "execution_count": 23,
   "id": "335122bf",
   "metadata": {},
   "outputs": [],
   "source": [
    "# Remove irreleavant words and symbols from Review column\n",
    "yelp[\"Review\"] = yelp[\"Review\"].apply(extract_words)"
   ]
  },
  {
   "cell_type": "code",
   "execution_count": 24,
   "id": "8d408af1",
   "metadata": {},
   "outputs": [],
   "source": [
    "# Apply TF-IDF Vectorizer to Review column\n",
    "yelp_vector = vectorizer.transform(yelp[\"Review\"])\n"
   ]
  },
  {
   "cell_type": "code",
   "execution_count": 25,
   "id": "4eba0607",
   "metadata": {},
   "outputs": [
    {
     "data": {
      "text/plain": [
       "0.75"
      ]
     },
     "execution_count": 25,
     "metadata": {},
     "output_type": "execute_result"
    }
   ],
   "source": [
    "# Create function to test accuracy of Logistic Regression model\n",
    "def logistic_accuracy(correct_vals, vector):\n",
    "    return accuracy_score(correct_vals, lr_model.predict_proba(vector).argmax(axis=1))\n",
    "\n",
    "y_lr_acc = logistic_accuracy(yelp[\"Sentiment\"], yelp_vector)\n",
    "np.round(y_lr_acc,2)"
   ]
  },
  {
   "cell_type": "code",
   "execution_count": 26,
   "id": "00eb2cf3",
   "metadata": {},
   "outputs": [
    {
     "data": {
      "text/plain": [
       "0.71"
      ]
     },
     "execution_count": 26,
     "metadata": {},
     "output_type": "execute_result"
    }
   ],
   "source": [
    "# Create function to test accuracy of Multinomial Bayes model\n",
    "def multinomialnb_accuracy(correct_vals, vector):\n",
    "    return accuracy_score(correct_vals, nb_model.predict_proba(vector).argmax(axis=1))\n",
    "\n",
    "y_nb_acc = multinomialnb_accuracy(yelp[\"Sentiment\"], yelp_vector)\n",
    "np.round(y_nb_acc,2)"
   ]
  },
  {
   "cell_type": "code",
   "execution_count": 27,
   "id": "b5dfef31",
   "metadata": {},
   "outputs": [
    {
     "data": {
      "text/plain": [
       "0.76"
      ]
     },
     "execution_count": 27,
     "metadata": {},
     "output_type": "execute_result"
    }
   ],
   "source": [
    "# Create combined model and test accuracy\n",
    "combined_yelp = combined_prediction(yelp_vector)\n",
    "yelp_acc = accuracy_score(yelp[\"Sentiment\"], combined_yelp)\n",
    "np.round(yelp_acc, 2)"
   ]
  },
  {
   "cell_type": "code",
   "execution_count": 28,
   "id": "74e0eee5",
   "metadata": {},
   "outputs": [
    {
     "data": {
      "image/png": "[encoded data removed]",
      "text/plain": [
       "<Figure size 432x288 with 2 Axes>"
      ]
     },
     "metadata": {
      "needs_background": "light"
     },
     "output_type": "display_data"
    }
   ],
   "source": [
    "# Create and plot confusion matrix for combined model \n",
    "cm_yelp = metrics.confusion_matrix(yelp[\"Sentiment\"],combined_yelp)\n",
    "y_cm_display = metrics.ConfusionMatrixDisplay(confusion_matrix = cm_yelp, display_labels = [\"Negative\", \"Positive\"])\n",
    "y_cm_display.plot()\n",
    "plt.show()"
   ]
  },
  {
   "cell_type": "code",
   "execution_count": 29,
   "id": "745a08c8",
   "metadata": {
    "scrolled": true
   },
   "outputs": [
    {
     "data": {
      "image/png": "[encoded data removed]",
      "text/plain": [
       "<Figure size 432x288 with 1 Axes>"
      ]
     },
     "metadata": {
      "needs_background": "light"
     },
     "output_type": "display_data"
    }
   ],
   "source": [
    "x = [0, 2, 4, 6]\n",
    "labels = ['IMDB', 'Combined', 'LR', 'Multinomial NB']\n",
    "\n",
    "heights = [acc, yelp_acc, y_lr_acc, y_nb_acc]\n",
    "c = ['grey', 'yellow', 'green', 'blue']\n",
    "\n",
    "plt.bar(x, heights, tick_label=labels, color = c)\n",
    "plt.ylim(0, 1.0)\n",
    "plt.title('Accuracy Score')\n",
    "plt.show()"
   ]
  },
  {
   "cell_type": "markdown",
   "id": "818f42a4",
   "metadata": {},
   "source": [
    "#### Amazon Review data"
   ]
  },
  {
   "cell_type": "code",
   "execution_count": 30,
   "id": "c92cc26b",
   "metadata": {},
   "outputs": [
    {
     "data": {
      "text/html": [
       "<div>\n",
       "<style scoped>\n",
       "    .dataframe tbody tr th:only-of-type {\n",
       "        vertical-align: middle;\n",
       "    }\n",
       "\n",
       "    .dataframe tbody tr th {\n",
       "        vertical-align: top;\n",
       "    }\n",
       "\n",
       "    .dataframe thead th {\n",
       "        text-align: right;\n",
       "    }\n",
       "</style>\n",
       "<table border=\"1\" class=\"dataframe\">\n",
       "  <thead>\n",
       "    <tr style=\"text-align: right;\">\n",
       "      <th></th>\n",
       "      <th>Review</th>\n",
       "      <th>Sentiment</th>\n",
       "    </tr>\n",
       "  </thead>\n",
       "  <tbody>\n",
       "    <tr>\n",
       "      <th>0</th>\n",
       "      <td>So there is no way for me to plug it in here i...</td>\n",
       "      <td>0</td>\n",
       "    </tr>\n",
       "    <tr>\n",
       "      <th>1</th>\n",
       "      <td>Good case Excellent value.</td>\n",
       "      <td>1</td>\n",
       "    </tr>\n",
       "    <tr>\n",
       "      <th>2</th>\n",
       "      <td>Great for the jawbone.</td>\n",
       "      <td>1</td>\n",
       "    </tr>\n",
       "    <tr>\n",
       "      <th>3</th>\n",
       "      <td>Tied to charger for conversations lasting more...</td>\n",
       "      <td>0</td>\n",
       "    </tr>\n",
       "    <tr>\n",
       "      <th>4</th>\n",
       "      <td>The mic is great.</td>\n",
       "      <td>1</td>\n",
       "    </tr>\n",
       "  </tbody>\n",
       "</table>\n",
       "</div>"
      ],
      "text/plain": [
       "                                              Review  Sentiment\n",
       "0  So there is no way for me to plug it in here i...          0\n",
       "1                         Good case Excellent value.          1\n",
       "2                             Great for the jawbone.          1\n",
       "3  Tied to charger for conversations lasting more...          0\n",
       "4                                  The mic is great.          1"
      ]
     },
     "execution_count": 30,
     "metadata": {},
     "output_type": "execute_result"
    }
   ],
   "source": [
    "# Read in and format Amazon review dataset\n",
    "amazon_test = pd.read_csv(\"amazon_cells_labelled.csv\", header = None)\n",
    "amazon = pd.DataFrame(columns=[\"Review\", \"Sentiment\"])\n",
    "\n",
    "for index, row in amazon_test.iterrows():\n",
    "    Review = \"\"\n",
    "    Sentiment = 0\n",
    "    for col in row:\n",
    "        if isinstance(col, str):\n",
    "            if col.isdigit():\n",
    "                Sentiment = col\n",
    "            else:\n",
    "                Review += col\n",
    "    new_row = {\"Review\": Review, \"Sentiment\": Sentiment}\n",
    "    amazon = amazon.append(new_row, ignore_index=True)\n",
    "\n",
    "amazon[\"Sentiment\"] = pd.to_numeric(amazon[\"Sentiment\"])\n",
    "\n",
    "amazon.head()"
   ]
  },
  {
   "cell_type": "code",
   "execution_count": 31,
   "id": "f5be1371",
   "metadata": {},
   "outputs": [
    {
     "name": "stdout",
     "output_type": "stream",
     "text": [
      "0.759 0.715\n"
     ]
    }
   ],
   "source": [
    "# Clean and Vectorize Review column\n",
    "amazon[\"Review\"] = amazon[\"Review\"].apply(extract_words)\n",
    "amazon_vector = vectorizer.transform(amazon[\"Review\"])\n",
    "\n",
    "# Print the accuracy fo LR and Multinomial NB models\n",
    "a_lr_acc = logistic_accuracy(amazon[\"Sentiment\"], amazon_vector)\n",
    "a_nb_acc = multinomialnb_accuracy(amazon[\"Sentiment\"], amazon_vector)\n",
    "print(a_lr_acc, a_nb_acc)"
   ]
  },
  {
   "cell_type": "code",
   "execution_count": 32,
   "id": "fef5a040",
   "metadata": {},
   "outputs": [
    {
     "data": {
      "text/plain": [
       "0.766"
      ]
     },
     "execution_count": 32,
     "metadata": {},
     "output_type": "execute_result"
    }
   ],
   "source": [
    "# Test the combined model accuracy\n",
    "combined_amazon = combined_prediction(amazon_vector)\n",
    "amazon_acc = accuracy_score(amazon[\"Sentiment\"], combined_amazon)\n",
    "amazon_acc"
   ]
  },
  {
   "cell_type": "code",
   "execution_count": 33,
   "id": "6c63a95e",
   "metadata": {},
   "outputs": [
    {
     "data": {
      "image/png": "[encoded data removed]",
      "text/plain": [
       "<Figure size 432x288 with 2 Axes>"
      ]
     },
     "metadata": {
      "needs_background": "light"
     },
     "output_type": "display_data"
    }
   ],
   "source": [
    "# Display the confusion matrix for the combined model\n",
    "cm_amazon = metrics.confusion_matrix(amazon[\"Sentiment\"],combined_amazon)\n",
    "a_cm_display = metrics.ConfusionMatrixDisplay(confusion_matrix = cm_amazon, display_labels = [\"Negative\", \"Positive\"])\n",
    "a_cm_display.plot()\n",
    "plt.show()"
   ]
  },
  {
   "cell_type": "code",
   "execution_count": 34,
   "id": "ccfc2fa0",
   "metadata": {
    "scrolled": true
   },
   "outputs": [
    {
     "data": {
      "image/png": "[encoded data removed]",
      "text/plain": [
       "<Figure size 432x288 with 1 Axes>"
      ]
     },
     "metadata": {
      "needs_background": "light"
     },
     "output_type": "display_data"
    }
   ],
   "source": [
    "# Cross comparison of the Combined model results on all three review types\n",
    "\n",
    "x = [0, 2, 4]\n",
    "labels = ['IMDB', 'Yelp', 'Amazon']\n",
    "\n",
    "heights = [acc, yelp_acc, amazon_acc]\n",
    "c = ['grey', 'purple', 'pink']\n",
    "\n",
    "plt.bar(x, heights, tick_label=labels, color = c)\n",
    "plt.ylim(0, 1)\n",
    "plt.title('Accuracy Score of Models')\n",
    "plt.show()"
   ]
  }
 ],
 "metadata": {
  "kernelspec": {
   "display_name": "Python 3 (ipykernel)",
   "language": "python",
   "name": "python3"
  },
  "language_info": {
   "codemirror_mode": {
    "name": "ipython",
    "version": 3
   },
   "file_extension": ".py",
   "mimetype": "text/x-python",
   "name": "python",
   "nbconvert_exporter": "python",
   "pygments_lexer": "ipython3",
   "version": "3.9.7"
  }
 },
 "nbformat": 4,
 "nbformat_minor": 5
}
